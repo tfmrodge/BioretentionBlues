{
 "cells": [
  {
   "cell_type": "markdown",
   "metadata": {},
   "source": [
    "# Multimedia Indoor Chemical Screening (MICS) Model \n",
    "\n",
    "This notebook can be used to run the MICS Model and analyze results. \n",
    "\n",
    "Individual cells below can be run by clicking in the cell and pressing shift + enter. More details regarding the Jupyter Notebook interface can be found using the following link: https://jupyter-notebook.readthedocs.io/en/stable/"
   ]
  },
  {
   "cell_type": "markdown",
   "metadata": {},
   "source": [
    "## Step 1: Import the MICS Model Package \n",
    "The MICS Model directory, which contains the Python code (.py extension), must be in the same parent directory as this Jupyter notebook file. "
   ]
  },
  {
   "cell_type": "code",
   "execution_count": 1,
   "metadata": {},
   "outputs": [],
   "source": [
    "# The following statement imports the MICS Model. \n",
    "import MICS as ms\n",
    "\n",
    "# Pandas is a Python library that handles displays in this notebook.\n",
    "import pandas as pd\n",
    "# Configure Pandas to not truncate displays. \n",
    "pd.set_option('display.max_rows', None)\n",
    "pd.set_option('display.max_columns', None)\n",
    "pd.set_option('display.width', None)\n",
    "pd.set_option('display.max_colwidth', None)"
   ]
  },
  {
   "cell_type": "markdown",
   "metadata": {},
   "source": [
    "## Step 2: Define the Model Configuration"
   ]
  },
  {
   "cell_type": "markdown",
   "metadata": {},
   "source": [
    "The following cell must be run to define the model configuration. This configuration specifies file paths for loading each input parameter file, and for exporting results. \n",
    "\n",
    "A default configuration is included below. For example, the file path, `'inputs/default/environment.csv'`, will tell the algorithm to search for the parameter file, `environment.csv`, in the `default` subdirectory of the `inputs` directory. Note that each directory/subdirectory must be separated by a forward slash. "
   ]
  },
  {
   "cell_type": "code",
   "execution_count": 2,
   "metadata": {},
   "outputs": [],
   "source": [
    "# Paths can be defined in single or double quotations to the right of each colon. \n",
    "configuration = {\n",
    "\t'environment': {\n",
    "        # Define path to the environment parameters CSV file. \n",
    "\t\t'env_parameters': 'inputs/default/environment.csv',\n",
    "        # Define path to the particle parameters CSV file. \n",
    "\t\t'par_parameters': 'inputs/default/particle.csv'\n",
    "\t\t},\n",
    "    # Define path to the chemical parameters CSV file. \n",
    "\t'chemical': 'inputs/sensitivity/chemical-higher-Koa.csv',\n",
    "\t'results': {\n",
    "        # Define paths and filenames for saving results as CSV files. \n",
    "\t\t'chemical_concentrations': 'results/sensitivity/chemical_concentrations.csv',\n",
    "\t\t'releases_to_outdoors': 'results/sensitivity/releases_to_outdoors.csv',\n",
    "\t\t'fitted_emissions': 'results/sensitivity/fitted_emission_rates.csv'\n",
    "\t}\n",
    "}"
   ]
  },
  {
   "cell_type": "markdown",
   "metadata": {},
   "source": [
    "## Step 3: Define which Compounds to Simulate\n",
    "\n",
    "The model can be run for all compounds in the chemical parameter input file, or for a subset of compounds. In either case, the user must run one of the following two cells to specify which compounds to simulate. "
   ]
  },
  {
   "cell_type": "markdown",
   "metadata": {},
   "source": [
    "Run the following cell to configure all compounds, as indicated by the empty list (square brackets). "
   ]
  },
  {
   "cell_type": "code",
   "execution_count": 3,
   "metadata": {},
   "outputs": [],
   "source": [
    "configuration['compounds'] = []"
   ]
  },
  {
   "cell_type": "markdown",
   "metadata": {},
   "source": [
    "Run the following cell to configure a subset of compounds. Each compound name must match a corresponding name in the chemical parameters input file, INCLUDING SPACES. A common error when defining new names is to accidently include one or more spaces at the end of the compound name. Compound names must be specified in single or double quotations within the list (square brackets), and separated by commas. An example has been provided below for five organophosphate flame retardants. "
   ]
  },
  {
   "cell_type": "code",
   "execution_count": 3,
   "metadata": {},
   "outputs": [],
   "source": [
    "configuration['compounds'] = [\n",
    "    'TCPP',\n",
    "    'TDCPP',\n",
    "    'TPhP',\n",
    "    'TBOEP',\n",
    "    'EHDPP'\n",
    "]"
   ]
  },
  {
   "cell_type": "markdown",
   "metadata": {},
   "source": [
    "## Step 4: Run a Simulation\n",
    "\n",
    "There are two ways to run a simulation, with the only difference being in how chemical emission rates to indoor air are defined. \n",
    "\n",
    "For either function, the user has the option to modify up to two of three key-word arguments (`kwargs`):\n",
    "- `N_homes` (type = integer): The number of homes for upscaling indoor-to-outdoor chemical release rates to a specified population. Resulting release rates per home will be multiplied by this value. The default value is 1 home, meaning that release rates will NOT be upscaled. \n",
    "- `N_persons_per_home` (type = integer): The number of persons per home, used to convert units of indoor-to-outdoor chemical release to a per-person basis. Resulting release rates per home will be divided by this value. The default value is 1 person, meaning that release rates will NOT be converted to a per-person basis, i.e., the units will be [ng/(household-day)] instead of [ng/(person-day)]. *NOTE*: If a user were to change this value, they should make sure that the specified surface area of the textiles compartment in environment.csv corresponds with the number of persons they choose for this key-word argument. The default surface area corresponds to an average of 2.58 persons/household.  \n",
    "- `export` (type = boolean):  If the value is True, results will be exported as CSV files as specified in model configuration dictionary. If these files already exist, then THEY WILL BE OVERWRITTEN. To avoid accidently overwriting results, the default value is False. *NOTE*: A file must be closed in order to be overwritten, otherwise an error message will be displayed.\n",
    "\n",
    "*NOTE*: It is appropriate to EITHER upscale the chemical release rates by modifying the default value of `N_homes` OR convert units of chemical release rates to a per-person basis by modifying the default value of `N_persons_per_home`. Both arguments should NOT be modified simultaneously. "
   ]
  },
  {
   "cell_type": "markdown",
   "metadata": {},
   "source": [
    "1.) **Run with user-defined emission rates**: The model will use the emission rates [ng/h] specified in the chemical parameters input file. In the absence of information on emission rates, one convenient choice is to set a value of 1 ng/h for each compound. The results could then be interpreted as concentrations and release rates per unit emission rate. Choosing the same emission rate for each compound would enable a user to compare predicted fate across compounds based on differences in physical-chemical property values alone, rather than differences in emission rates. The MICS Model function for this option is `MICS.simulation.run_with_user_defined_emissions`. "
   ]
  },
  {
   "cell_type": "code",
   "execution_count": 4,
   "metadata": {},
   "outputs": [],
   "source": [
    "# Define the key-word arguments.\n",
    "kwargs = {\n",
    "    'N_homes': 1,  \n",
    "    'N_persons_per_home': 2.58, \n",
    "    'export': True}  # first letter must be capitalized\n",
    "\n",
    "# Run the simulation and store results. \n",
    "# Results are \"unpacked\" from the tuple into two DataFrames. \n",
    "concentrations, release_rates = ms.simulation.run_with_user_defined_emissions(\n",
    "    configuration, **kwargs)"
   ]
  },
  {
   "cell_type": "code",
   "execution_count": 9,
   "metadata": {},
   "outputs": [
    {
     "data": {
      "text/html": [
       "<div>\n",
       "<style scoped>\n",
       "    .dataframe tbody tr th:only-of-type {\n",
       "        vertical-align: middle;\n",
       "    }\n",
       "\n",
       "    .dataframe tbody tr th {\n",
       "        vertical-align: top;\n",
       "    }\n",
       "\n",
       "    .dataframe thead th {\n",
       "        text-align: right;\n",
       "    }\n",
       "</style>\n",
       "<table border=\"1\" class=\"dataframe\">\n",
       "  <thead>\n",
       "    <tr style=\"text-align: right;\">\n",
       "      <th></th>\n",
       "      <th>air</th>\n",
       "      <th>textiles</th>\n",
       "      <th>PUF</th>\n",
       "      <th>floor</th>\n",
       "      <th>carpet</th>\n",
       "      <th>up_surfs</th>\n",
       "      <th>other_surfs</th>\n",
       "    </tr>\n",
       "  </thead>\n",
       "  <tbody>\n",
       "    <tr>\n",
       "      <th>TCPP</th>\n",
       "      <td>0.017754</td>\n",
       "      <td>381.942468</td>\n",
       "      <td>1.659919e+05</td>\n",
       "      <td>1.772999e+06</td>\n",
       "      <td>316441.184459</td>\n",
       "      <td>4.767329e+06</td>\n",
       "      <td>4.833659e+06</td>\n",
       "    </tr>\n",
       "    <tr>\n",
       "      <th>TDCPP</th>\n",
       "      <td>0.010194</td>\n",
       "      <td>615.253184</td>\n",
       "      <td>3.195900e+06</td>\n",
       "      <td>1.752845e+07</td>\n",
       "      <td>405438.786708</td>\n",
       "      <td>6.933427e+07</td>\n",
       "      <td>7.017190e+07</td>\n",
       "    </tr>\n",
       "    <tr>\n",
       "      <th>TPhP</th>\n",
       "      <td>0.005723</td>\n",
       "      <td>925.638946</td>\n",
       "      <td>5.157094e+06</td>\n",
       "      <td>3.559300e+07</td>\n",
       "      <td>409464.351568</td>\n",
       "      <td>1.006967e+08</td>\n",
       "      <td>1.013064e+08</td>\n",
       "    </tr>\n",
       "    <tr>\n",
       "      <th>TBOEP</th>\n",
       "      <td>0.002626</td>\n",
       "      <td>862.147287</td>\n",
       "      <td>7.185174e+06</td>\n",
       "      <td>3.048799e+07</td>\n",
       "      <td>392249.970751</td>\n",
       "      <td>1.387916e+08</td>\n",
       "      <td>1.298059e+08</td>\n",
       "    </tr>\n",
       "    <tr>\n",
       "      <th>EHDPP</th>\n",
       "      <td>0.002621</td>\n",
       "      <td>8295.123270</td>\n",
       "      <td>7.164943e+06</td>\n",
       "      <td>3.287350e+07</td>\n",
       "      <td>392517.399298</td>\n",
       "      <td>1.378002e+08</td>\n",
       "      <td>1.293704e+08</td>\n",
       "    </tr>\n",
       "  </tbody>\n",
       "</table>\n",
       "</div>"
      ],
      "text/plain": [
       "            air     textiles           PUF         floor         carpet  \\\n",
       "TCPP   0.017754   381.942468  1.659919e+05  1.772999e+06  316441.184459   \n",
       "TDCPP  0.010194   615.253184  3.195900e+06  1.752845e+07  405438.786708   \n",
       "TPhP   0.005723   925.638946  5.157094e+06  3.559300e+07  409464.351568   \n",
       "TBOEP  0.002626   862.147287  7.185174e+06  3.048799e+07  392249.970751   \n",
       "EHDPP  0.002621  8295.123270  7.164943e+06  3.287350e+07  392517.399298   \n",
       "\n",
       "           up_surfs   other_surfs  \n",
       "TCPP   4.767329e+06  4.833659e+06  \n",
       "TDCPP  6.933427e+07  7.017190e+07  \n",
       "TPhP   1.006967e+08  1.013064e+08  \n",
       "TBOEP  1.387916e+08  1.298059e+08  \n",
       "EHDPP  1.378002e+08  1.293704e+08  "
      ]
     },
     "execution_count": 9,
     "metadata": {},
     "output_type": "execute_result"
    }
   ],
   "source": [
    "# Run this cell to update the display of chemical mass concentrations [ng/m3].\n",
    "concentrations"
   ]
  },
  {
   "cell_type": "code",
   "execution_count": 7,
   "metadata": {},
   "outputs": [
    {
     "data": {
      "text/html": [
       "<div>\n",
       "<style scoped>\n",
       "    .dataframe tbody tr th:only-of-type {\n",
       "        vertical-align: middle;\n",
       "    }\n",
       "\n",
       "    .dataframe tbody tr th {\n",
       "        vertical-align: top;\n",
       "    }\n",
       "\n",
       "    .dataframe thead th {\n",
       "        text-align: right;\n",
       "    }\n",
       "</style>\n",
       "<table border=\"1\" class=\"dataframe\">\n",
       "  <thead>\n",
       "    <tr style=\"text-align: right;\">\n",
       "      <th></th>\n",
       "      <th>air</th>\n",
       "      <th>wastewater</th>\n",
       "      <th>solid_waste</th>\n",
       "    </tr>\n",
       "  </thead>\n",
       "  <tbody>\n",
       "    <tr>\n",
       "      <th>TCPP</th>\n",
       "      <td>14.3807</td>\n",
       "      <td>9.16624</td>\n",
       "      <td>0.156955</td>\n",
       "    </tr>\n",
       "    <tr>\n",
       "      <th>TDCPP</th>\n",
       "      <td>8.25678</td>\n",
       "      <td>14.7423</td>\n",
       "      <td>0.849757</td>\n",
       "    </tr>\n",
       "    <tr>\n",
       "      <th>TPhP</th>\n",
       "      <td>4.6357</td>\n",
       "      <td>18.0141</td>\n",
       "      <td>1.30671</td>\n",
       "    </tr>\n",
       "    <tr>\n",
       "      <th>TBOEP</th>\n",
       "      <td>2.12676</td>\n",
       "      <td>20.3702</td>\n",
       "      <td>1.49492</td>\n",
       "    </tr>\n",
       "    <tr>\n",
       "      <th>EHDPP</th>\n",
       "      <td>2.12301</td>\n",
       "      <td>20.3504</td>\n",
       "      <td>1.51926</td>\n",
       "    </tr>\n",
       "  </tbody>\n",
       "</table>\n",
       "</div>"
      ],
      "text/plain": [
       "           air wastewater solid_waste\n",
       "TCPP   14.3807    9.16624    0.156955\n",
       "TDCPP  8.25678    14.7423    0.849757\n",
       "TPhP    4.6357    18.0141     1.30671\n",
       "TBOEP  2.12676    20.3702     1.49492\n",
       "EHDPP  2.12301    20.3504     1.51926"
      ]
     },
     "execution_count": 7,
     "metadata": {},
     "output_type": "execute_result"
    }
   ],
   "source": [
    "# Run this cell to update the display of chemical release rates to outdoors.\n",
    "# Units depend on the key-word argument values as detailed above. \n",
    "release_rates"
   ]
  },
  {
   "cell_type": "markdown",
   "metadata": {},
   "source": [
    "2.) **Run with calibrated emission rates**: The model will use an optimization algorithm to find an emission rate for each compound that produces the best fit between observed and predicted concentrations. For this, two additional inputs are required from the chemical parameters file, `concentration` and `compartment`. These inputs denote the measured chemical mass concentration and corresponding model compartment, respectively. The value for `compartment` can be any one of the seven possible model compartments (air, textiles, PUF, floor, carpet, up_surfs, other_surfs). Units of `concentration` must be [ng/m3] for a bulk air sample, or [ng/g] for a dust sample collected from one of the other compartments. The MICS Model function for this option is `MICS.simulation.run_with_fitted_emissions`."
   ]
  },
  {
   "cell_type": "code",
   "execution_count": 14,
   "metadata": {},
   "outputs": [
    {
     "name": "stdout",
     "output_type": "stream",
     "text": [
      "TCPP  calibration success? True\n",
      "TDCPP  calibration success? True\n",
      "TPhP  calibration success? True\n",
      "TBOEP  calibration success? True\n",
      "EHDPP  calibration success? True\n"
     ]
    }
   ],
   "source": [
    "# Define the key-word arguments.\n",
    "kwargs = {\n",
    "    'N_homes': 1,\n",
    "    'N_persons_per_home': 1,\n",
    "    'export': False}  # first letter must be capitalized\n",
    "\n",
    "# Run the simulation and store results. \n",
    "# Results are \"unpacked\" from the tuple into two DataFrames and a Series. \n",
    "concentrations, release_rates, emission_rates = ms.simulation.run_with_fitted_emissions(\n",
    "    configuration, **kwargs)"
   ]
  },
  {
   "cell_type": "code",
   "execution_count": 15,
   "metadata": {},
   "outputs": [
    {
     "data": {
      "text/html": [
       "<div>\n",
       "<style scoped>\n",
       "    .dataframe tbody tr th:only-of-type {\n",
       "        vertical-align: middle;\n",
       "    }\n",
       "\n",
       "    .dataframe tbody tr th {\n",
       "        vertical-align: top;\n",
       "    }\n",
       "\n",
       "    .dataframe thead th {\n",
       "        text-align: right;\n",
       "    }\n",
       "</style>\n",
       "<table border=\"1\" class=\"dataframe\">\n",
       "  <thead>\n",
       "    <tr style=\"text-align: right;\">\n",
       "      <th></th>\n",
       "      <th>air</th>\n",
       "      <th>textiles</th>\n",
       "      <th>PUF</th>\n",
       "      <th>floor</th>\n",
       "      <th>carpet</th>\n",
       "      <th>up_surfs</th>\n",
       "      <th>other_surfs</th>\n",
       "    </tr>\n",
       "  </thead>\n",
       "  <tbody>\n",
       "    <tr>\n",
       "      <th>TCPP</th>\n",
       "      <td>2.34</td>\n",
       "      <td>50340.763029</td>\n",
       "      <td>2.187806e+07</td>\n",
       "      <td>2.336847e+08</td>\n",
       "      <td>4.170757e+07</td>\n",
       "      <td>6.283432e+08</td>\n",
       "      <td>6.370857e+08</td>\n",
       "    </tr>\n",
       "    <tr>\n",
       "      <th>TDCPP</th>\n",
       "      <td>0.04</td>\n",
       "      <td>2414.281988</td>\n",
       "      <td>1.254086e+07</td>\n",
       "      <td>6.878245e+07</td>\n",
       "      <td>1.590961e+06</td>\n",
       "      <td>2.720709e+08</td>\n",
       "      <td>2.753578e+08</td>\n",
       "    </tr>\n",
       "    <tr>\n",
       "      <th>TPhP</th>\n",
       "      <td>4.07</td>\n",
       "      <td>658273.223285</td>\n",
       "      <td>3.667496e+09</td>\n",
       "      <td>2.531216e+10</td>\n",
       "      <td>2.911928e+08</td>\n",
       "      <td>7.161100e+10</td>\n",
       "      <td>7.204462e+10</td>\n",
       "    </tr>\n",
       "    <tr>\n",
       "      <th>TBOEP</th>\n",
       "      <td>0.55</td>\n",
       "      <td>180597.223492</td>\n",
       "      <td>1.505105e+09</td>\n",
       "      <td>6.386434e+09</td>\n",
       "      <td>8.216607e+07</td>\n",
       "      <td>2.907319e+10</td>\n",
       "      <td>2.719094e+10</td>\n",
       "    </tr>\n",
       "    <tr>\n",
       "      <th>EHDPP</th>\n",
       "      <td>0.04</td>\n",
       "      <td>126594.900891</td>\n",
       "      <td>1.093468e+08</td>\n",
       "      <td>5.016945e+08</td>\n",
       "      <td>5.990351e+06</td>\n",
       "      <td>2.103019e+09</td>\n",
       "      <td>1.974369e+09</td>\n",
       "    </tr>\n",
       "  </tbody>\n",
       "</table>\n",
       "</div>"
      ],
      "text/plain": [
       "        air       textiles           PUF         floor        carpet  \\\n",
       "TCPP   2.34   50340.763029  2.187806e+07  2.336847e+08  4.170757e+07   \n",
       "TDCPP  0.04    2414.281988  1.254086e+07  6.878245e+07  1.590961e+06   \n",
       "TPhP   4.07  658273.223285  3.667496e+09  2.531216e+10  2.911928e+08   \n",
       "TBOEP  0.55  180597.223492  1.505105e+09  6.386434e+09  8.216607e+07   \n",
       "EHDPP  0.04  126594.900891  1.093468e+08  5.016945e+08  5.990351e+06   \n",
       "\n",
       "           up_surfs   other_surfs  \n",
       "TCPP   6.283432e+08  6.370857e+08  \n",
       "TDCPP  2.720709e+08  2.753578e+08  \n",
       "TPhP   7.161100e+10  7.204462e+10  \n",
       "TBOEP  2.907319e+10  2.719094e+10  \n",
       "EHDPP  2.103019e+09  1.974369e+09  "
      ]
     },
     "execution_count": 15,
     "metadata": {},
     "output_type": "execute_result"
    }
   ],
   "source": [
    "# Run this cell to update the display of chemical mass concentrations [ng/m3].\n",
    "concentrations"
   ]
  },
  {
   "cell_type": "code",
   "execution_count": 16,
   "metadata": {},
   "outputs": [
    {
     "data": {
      "text/html": [
       "<div>\n",
       "<style scoped>\n",
       "    .dataframe tbody tr th:only-of-type {\n",
       "        vertical-align: middle;\n",
       "    }\n",
       "\n",
       "    .dataframe tbody tr th {\n",
       "        vertical-align: top;\n",
       "    }\n",
       "\n",
       "    .dataframe thead th {\n",
       "        text-align: right;\n",
       "    }\n",
       "</style>\n",
       "<table border=\"1\" class=\"dataframe\">\n",
       "  <thead>\n",
       "    <tr style=\"text-align: right;\">\n",
       "      <th></th>\n",
       "      <th>air</th>\n",
       "      <th>wastewater</th>\n",
       "      <th>solid_waste</th>\n",
       "    </tr>\n",
       "  </thead>\n",
       "  <tbody>\n",
       "    <tr>\n",
       "      <th>TCPP</th>\n",
       "      <td>1895.4</td>\n",
       "      <td>1208.13</td>\n",
       "      <td>20.687</td>\n",
       "    </tr>\n",
       "    <tr>\n",
       "      <th>TDCPP</th>\n",
       "      <td>32.4</td>\n",
       "      <td>57.8494</td>\n",
       "      <td>3.33448</td>\n",
       "    </tr>\n",
       "    <tr>\n",
       "      <th>TPhP</th>\n",
       "      <td>3296.7</td>\n",
       "      <td>12810.8</td>\n",
       "      <td>929.275</td>\n",
       "    </tr>\n",
       "    <tr>\n",
       "      <th>TBOEP</th>\n",
       "      <td>445.5</td>\n",
       "      <td>4267.03</td>\n",
       "      <td>313.147</td>\n",
       "    </tr>\n",
       "    <tr>\n",
       "      <th>EHDPP</th>\n",
       "      <td>32.4</td>\n",
       "      <td>310.575</td>\n",
       "      <td>23.1859</td>\n",
       "    </tr>\n",
       "  </tbody>\n",
       "</table>\n",
       "</div>"
      ],
      "text/plain": [
       "          air wastewater solid_waste\n",
       "TCPP   1895.4    1208.13      20.687\n",
       "TDCPP    32.4    57.8494     3.33448\n",
       "TPhP   3296.7    12810.8     929.275\n",
       "TBOEP   445.5    4267.03     313.147\n",
       "EHDPP    32.4    310.575     23.1859"
      ]
     },
     "execution_count": 16,
     "metadata": {},
     "output_type": "execute_result"
    }
   ],
   "source": [
    "# Run this cell to update the display of chemical release rates to outdoors. \n",
    "# Units depend on the key-word argument values as detailed above. \n",
    "release_rates"
   ]
  },
  {
   "cell_type": "code",
   "execution_count": 7,
   "metadata": {},
   "outputs": [
    {
     "data": {
      "text/plain": [
       "TCPP     131.801952\n",
       "TDCPP      3.924046\n",
       "TPhP     711.155496\n",
       "TBOEP    209.473748\n",
       "EHDPP     15.261365\n",
       "Name: emission_rate, dtype: float64"
      ]
     },
     "execution_count": 7,
     "metadata": {},
     "output_type": "execute_result"
    }
   ],
   "source": [
    "# Run this cell to update the display of fitted chemical emission rates [ng/h]. \n",
    "emission_rates"
   ]
  },
  {
   "cell_type": "markdown",
   "metadata": {},
   "source": [
    "## Step 5: Change Parameter Values and Re-Run (Optional)\n",
    "If a user wishes to change one or more input parameter values, re-run a simulation, and compare model results, it is quite simple to do so using this Jupyter notebook interface. The following steps should be taken. \n",
    "\n",
    "1. Change the value(s) in the appropriate input CSV file(s). \n",
    "2. Save the CSV file(s) and close them. \n",
    "2. Restart the kernel (select kernel/restart from the menu bar at the top). \n",
    "3. Re-run the appropriate cell(s). *NOTE*: Jupyter saves displays, so to compare model results, one could simply insert a new cell directly above or below the cell where previous results are displayed, and run the same code in the new cell. The outputs will be displayed next to each other in their respective cells, making it easy to compare results side-by-side. Options to insert new cells can be found in the menu bar at the top. "
   ]
  },
  {
   "cell_type": "code",
   "execution_count": null,
   "metadata": {},
   "outputs": [],
   "source": []
  }
 ],
 "metadata": {
  "kernelspec": {
   "display_name": "Python 3",
   "language": "python",
   "name": "python3"
  },
  "language_info": {
   "codemirror_mode": {
    "name": "ipython",
    "version": 3
   },
   "file_extension": ".py",
   "mimetype": "text/x-python",
   "name": "python",
   "nbconvert_exporter": "python",
   "pygments_lexer": "ipython3",
   "version": "3.6.5"
  }
 },
 "nbformat": 4,
 "nbformat_minor": 4
}
